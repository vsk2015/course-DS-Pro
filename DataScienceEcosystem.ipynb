{
 "cells": [
  {
   "cell_type": "markdown",
   "id": "ce524700-6fb2-4032-83e3-2120c562003f",
   "metadata": {},
   "source": [
    "# Data Science Tools and Ecosystem"
   ]
  },
  {
   "cell_type": "markdown",
   "id": "a7af85ec-4439-430f-9968-e3edca49778d",
   "metadata": {},
   "source": [
    "In this notebook, Data Science Tools and Ecosystem are summarized.\n",
    "### Objectives:\n",
    "- Open Source Data Science tools\n",
    "- Jupyter Notebooks and Jupyter Lab\n",
    "- Libraries for Data Science\n",
    "- Tools for Data Science"
   ]
  },
  {
   "cell_type": "markdown",
   "id": "780ff5f9-f530-4f05-91f1-908dd2c5cd5c",
   "metadata": {},
   "source": [
    "Some of the popular languages that Data Scientists use are:\n",
    "1. Python\n",
    "2. R \n",
    "3. Java"
   ]
  },
  {
   "cell_type": "markdown",
   "id": "127bc689-e8d4-4dad-b62e-f9748307bb69",
   "metadata": {},
   "source": [
    "Some of the commonly used libraries used by Data Scientists include:\n",
    "1. Pandas\n",
    "2. Numpy\n",
    "3. Scikit-Learn"
   ]
  },
  {
   "cell_type": "markdown",
   "id": "4f283878-8381-4e5e-af01-f2c303311a5a",
   "metadata": {},
   "source": [
    "| Data Science Tools |\n",
    "|------------------|\n",
    "|Spark|\n",
    "|Kubeflow|\n",
    "|Jupyter|"
   ]
  },
  {
   "cell_type": "markdown",
   "id": "036e5449-7284-44b0-80e7-65cef5a12054",
   "metadata": {},
   "source": [
    "### Below are a few examples of evaluating arithmetic expressions in Python"
   ]
  },
  {
   "cell_type": "code",
   "execution_count": 9,
   "id": "23135dd0-3cca-46fd-ba39-516534d19eb2",
   "metadata": {},
   "outputs": [
    {
     "name": "stdout",
     "output_type": "stream",
     "text": [
      "3.0\n"
     ]
    }
   ],
   "source": [
    "a = 3 + 6\n",
    "b = 3*1\n",
    "c = a/b\n",
    "print(c)"
   ]
  },
  {
   "cell_type": "code",
   "execution_count": 10,
   "id": "0143fc8f-7cf5-43a7-8ade-78f55e27e8b2",
   "metadata": {},
   "outputs": [
    {
     "name": "stdout",
     "output_type": "stream",
     "text": [
      "17\n"
     ]
    }
   ],
   "source": [
    "# This a simple arithmetic expression to mutiply then add integers\n",
    "a=(3*4)+5\n",
    "print(a)"
   ]
  },
  {
   "cell_type": "code",
   "execution_count": 11,
   "id": "83112f74-1192-4928-9a6c-7e690f9abf0a",
   "metadata": {},
   "outputs": [
    {
     "name": "stdout",
     "output_type": "stream",
     "text": [
      "3.3333333333333335\n"
     ]
    }
   ],
   "source": [
    "#This will convert 200 minutes to hours by diving by 60\n",
    "mints=200\n",
    "hTomin= 60\n",
    "result=200/60\n",
    "print(result)"
   ]
  },
  {
   "cell_type": "markdown",
   "id": "5e1e78f3-210c-477f-8736-561a6aa0f2de",
   "metadata": {},
   "source": [
    "## Author\n",
    "Vikram Singh "
   ]
  },
  {
   "cell_type": "code",
   "execution_count": null,
   "id": "77306e4b-1ae1-4844-b38b-5fe0390c5842",
   "metadata": {},
   "outputs": [],
   "source": []
  }
 ],
 "metadata": {
  "kernelspec": {
   "display_name": "Python 3 (ipykernel)",
   "language": "python",
   "name": "python3"
  },
  "language_info": {
   "codemirror_mode": {
    "name": "ipython",
    "version": 3
   },
   "file_extension": ".py",
   "mimetype": "text/x-python",
   "name": "python",
   "nbconvert_exporter": "python",
   "pygments_lexer": "ipython3",
   "version": "3.10.11"
  }
 },
 "nbformat": 4,
 "nbformat_minor": 5
}
